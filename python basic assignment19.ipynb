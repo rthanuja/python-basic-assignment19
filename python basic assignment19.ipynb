{
 "cells": [
  {
   "cell_type": "code",
   "execution_count": 1,
   "id": "e36805c9",
   "metadata": {},
   "outputs": [
    {
     "name": "stdout",
     "output_type": "stream",
     "text": [
      "<class '__main__.thing'>\n",
      "<__main__.thing object at 0x000001DA571A63E0>\n",
      "printed values are different\n"
     ]
    }
   ],
   "source": [
    "'''1. Make a class called Thing with no contents and print it. Then, create an object called example\n",
    "from this class and also print it. Are the printed values the same or different?'''\n",
    "class thing:\n",
    "    pass\n",
    "print(thing)\n",
    "example=thing()\n",
    "print(example)\n",
    "print(\"printed values are different\")"
   ]
  },
  {
   "cell_type": "code",
   "execution_count": 2,
   "id": "87651e43",
   "metadata": {},
   "outputs": [
    {
     "data": {
      "text/plain": [
       "'abc'"
      ]
     },
     "execution_count": 2,
     "metadata": {},
     "output_type": "execute_result"
    }
   ],
   "source": [
    "'''2. Create a new class called Thing2 and add the value \"abc\" to the letters class attribute. Letters\n",
    "should be printed.'''\n",
    "class thing2:\n",
    "    letters=\"abc\"\n",
    "thing2.letters\n",
    "    "
   ]
  },
  {
   "cell_type": "code",
   "execution_count": 3,
   "id": "ed520343",
   "metadata": {},
   "outputs": [
    {
     "name": "stdout",
     "output_type": "stream",
     "text": [
      "yes,we need to make an object from the class to get instance attributes\n"
     ]
    },
    {
     "data": {
      "text/plain": [
       "'xyz'"
      ]
     },
     "execution_count": 3,
     "metadata": {},
     "output_type": "execute_result"
    }
   ],
   "source": [
    "'''3. Make yet another class called, of course, Thing3. This time, assign the value \"xyz\" to an instance\n",
    "(object) attribute called letters. Print letters. Do you need to make an object from the class to do this?'''\n",
    "class Thing3:\n",
    "    def __init__(self):\n",
    "        self.letters=\"xyz\"\n",
    "print(\"yes,we need to make an object from the class to get instance attributes\")\n",
    "obj=Thing3()\n",
    "obj.letters"
   ]
  },
  {
   "cell_type": "code",
   "execution_count": 4,
   "id": "02f9f184",
   "metadata": {},
   "outputs": [],
   "source": [
    "'''4. Create an Element class with the instance attributes name, symbol, and number. Create a class\n",
    "object with the values \"Hydrogen,\"\"H,\" and 1.'''\n",
    "class Element:\n",
    "    def __init__(self,name,symbol,number):\n",
    "        self.name=name\n",
    "        self.symbol=symbol\n",
    "        self.number=number\n",
    "co=Element(\"Hydrogen\",\"H\",1)\n",
    "        "
   ]
  },
  {
   "cell_type": "code",
   "execution_count": 5,
   "id": "3810fd10",
   "metadata": {},
   "outputs": [
    {
     "name": "stdout",
     "output_type": "stream",
     "text": [
      "Hydrogen\n",
      "H\n",
      "1\n"
     ]
    }
   ],
   "source": [
    "'''5. Make a dictionary with these keys and values: \"name\": \"Hydrogen\", \"symbol\":\"H\",\"number\": 1. Then,\n",
    "create an object called hydrogen from class Element using this dictionary.'''\n",
    "dictionary={\"name\": \"Hydrogen\", \"symbol\":\"H\",\"number\": 1}\n",
    "hydrogen=Element(*dictionary.values())\n",
    "print(hydrogen.name)\n",
    "print(hydrogen.symbol)\n",
    "print(hydrogen.number)\n"
   ]
  },
  {
   "cell_type": "code",
   "execution_count": 6,
   "id": "99882681",
   "metadata": {},
   "outputs": [
    {
     "name": "stdout",
     "output_type": "stream",
     "text": [
      "name: Hydrogen\n",
      "symbol: H\n",
      "number: 1\n"
     ]
    }
   ],
   "source": [
    "'''6. For the Element class, define a method called dump() that prints the values of the object’s\n",
    "attributes (name, symbol, and number). Create the hydrogen object from this new definition and\n",
    "use dump() to print its attributes.'''\n",
    "class Element:\n",
    "    def __init__(self,name,symbol,number):\n",
    "        self.name=name\n",
    "        self.symbol=symbol\n",
    "        self.number=number\n",
    "    def dump(self):\n",
    "        print(\"name: {}\\nsymbol: {}\\nnumber: {}\".format(self.name,self.symbol,self.number))\n",
    "hydrogen=Element(\"Hydrogen\",\"H\",1)\n",
    "hydrogen.dump()"
   ]
  },
  {
   "cell_type": "code",
   "execution_count": 7,
   "id": "a1ef063f",
   "metadata": {},
   "outputs": [
    {
     "name": "stdout",
     "output_type": "stream",
     "text": [
      "<__main__.Element object at 0x000001DA5719D7B0>\n",
      "name: Hydrogen\n",
      "symbol: H\n",
      "number: 1\n"
     ]
    }
   ],
   "source": [
    "'''7. Call print(hydrogen). In the definition of Element, change the name of method dump to __str__,\n",
    "create a new hydrogen object, and call print(hydrogen) again.'''\n",
    "print(hydrogen)\n",
    "\n",
    "class Element:\n",
    "    def __init__(self,name,symbol,number):\n",
    "        self.name=name\n",
    "        self.symbol=symbol\n",
    "        self.number=number\n",
    "    def __str__(self):\n",
    "        return (\"name: {}\\nsymbol: {}\\nnumber: {}\".format(self.name,self.symbol,self.number))\n",
    "Hydrogen=Element(\"Hydrogen\",\"H\",1)\n",
    "print(Hydrogen)"
   ]
  },
  {
   "cell_type": "code",
   "execution_count": 8,
   "id": "5a9c5919",
   "metadata": {},
   "outputs": [
    {
     "name": "stdout",
     "output_type": "stream",
     "text": [
      "data d 2\n"
     ]
    }
   ],
   "source": [
    "'''8. Modify Element to make the attributes name, symbol, and number private. Define a getter\n",
    "property for each to return its value.'''\n",
    "class Element:\n",
    "    def __init__(self,name,symbol,number):\n",
    "        self.__name=name\n",
    "        self.__symbol=symbol\n",
    "        self.__number=number\n",
    "    @property\n",
    "    def name(self):\n",
    "        return self.__name\n",
    "    @property\n",
    "    def symbol(self):\n",
    "        return self.__symbol\n",
    "    @property\n",
    "    def number(self):\n",
    "        return self.__number\n",
    "    \n",
    "b=Element(\"data\",\"d\",2)\n",
    "print(b.name,b.symbol,b.number)"
   ]
  },
  {
   "cell_type": "code",
   "execution_count": 9,
   "id": "cdef9a96",
   "metadata": {},
   "outputs": [
    {
     "name": "stdout",
     "output_type": "stream",
     "text": [
      "berries\n",
      "clover\n",
      "campers\n"
     ]
    }
   ],
   "source": [
    "'''9. Define three classes: Bear, Rabbit, and Octothorpe. For each, define only one method: eats(). This\n",
    "should return \"berries\" (Bear), \"clover\" (Rabbit), or \"campers\" (Octothorpe). Create one object from\n",
    "each and print what it eats.'''\n",
    "class Bear:\n",
    "    def eats(self):\n",
    "        return \"berries\"\n",
    "class Rabbit:\n",
    "    def eats(self):\n",
    "        return \"clover\"\n",
    "class Octothorpe:\n",
    "    def eats(self):\n",
    "        return \"campers\"\n",
    "be=Bear()\n",
    "ra=Rabbit()\n",
    "oc=Octothorpe()\n",
    "print(be.eats())\n",
    "print(ra.eats())\n",
    "print(oc.eats())\n",
    "        "
   ]
  },
  {
   "cell_type": "code",
   "execution_count": 10,
   "id": "c27d03fa",
   "metadata": {},
   "outputs": [
    {
     "data": {
      "text/plain": [
       "'laser disintegrate,claw crush,smartphone ring'"
      ]
     },
     "execution_count": 10,
     "metadata": {},
     "output_type": "execute_result"
    }
   ],
   "source": [
    "'''10. Define these classes: Laser, Claw, and SmartPhone. Each has only one method: does(). This returns \"disintegrate\" \n",
    "(Laser),\"crush\" (Claw), or \"ring\" (SmartPhone). Then, define the class Robot that has one instance (object) of each of \n",
    "these. Define a does() method for the Robot that prints what its component objects do.'''\n",
    "\n",
    "class Laser:\n",
    "    def does(self):\n",
    "        return \"disintegrate\"\n",
    "class Claw:\n",
    "    def does(self):\n",
    "        return \"crush\"\n",
    "class Smartphone:\n",
    "    def does(self):\n",
    "        return \"ring\"\n",
    "class Robot:\n",
    "    def __init__(self):\n",
    "        self.laser=Laser()\n",
    "        self.claw=Claw()\n",
    "        self.smartphone=Smartphone()\n",
    "    def does(self):\n",
    "        return \"laser {},claw {},smartphone {}\".format(self.laser.does(),self.claw.does(),self.smartphone.does())\n",
    "robot=Robot()\n",
    "robot.does()"
   ]
  },
  {
   "cell_type": "code",
   "execution_count": null,
   "id": "f2180eb6",
   "metadata": {},
   "outputs": [],
   "source": []
  }
 ],
 "metadata": {
  "kernelspec": {
   "display_name": "Python 3 (ipykernel)",
   "language": "python",
   "name": "python3"
  },
  "language_info": {
   "codemirror_mode": {
    "name": "ipython",
    "version": 3
   },
   "file_extension": ".py",
   "mimetype": "text/x-python",
   "name": "python",
   "nbconvert_exporter": "python",
   "pygments_lexer": "ipython3",
   "version": "3.10.9"
  }
 },
 "nbformat": 4,
 "nbformat_minor": 5
}
